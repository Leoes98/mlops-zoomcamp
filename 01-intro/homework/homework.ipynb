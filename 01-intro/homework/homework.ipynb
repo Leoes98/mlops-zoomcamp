{
 "cells": [
  {
   "cell_type": "markdown",
   "id": "17f932bc",
   "metadata": {},
   "source": [
    "# MLOps Zoomcamp - Homework #1"
   ]
  },
  {
   "cell_type": "code",
   "execution_count": 78,
   "id": "53881b07",
   "metadata": {},
   "outputs": [],
   "source": [
    "import pandas as pd\n",
    "import numpy as np\n",
    "from sklearn.feature_extraction import DictVectorizer\n",
    "from sklearn.linear_model import LinearRegression\n",
    "from sklearn.metrics import mean_squared_error\n",
    "import seaborn as sns\n",
    "import matplotlib.pyplot as plt"
   ]
  },
  {
   "cell_type": "code",
   "execution_count": 88,
   "id": "a9b708a9",
   "metadata": {},
   "outputs": [],
   "source": [
    "df1 = pd.read_parquet('./data/fhv_tripdata_2021-01.parquet')\n",
    "df2 = pd.read_parquet('./data/fhv_tripdata_2021-02.parquet')"
   ]
  },
  {
   "cell_type": "markdown",
   "id": "ffa90579",
   "metadata": {},
   "source": [
    "### Question 1: Number of records in Jan 2021 FHV data"
   ]
  },
  {
   "cell_type": "code",
   "execution_count": 9,
   "id": "a066d0af",
   "metadata": {},
   "outputs": [
    {
     "name": "stdout",
     "output_type": "stream",
     "text": [
      "1154112\n"
     ]
    }
   ],
   "source": [
    "print(len(df1))"
   ]
  },
  {
   "cell_type": "markdown",
   "id": "2444a3c5",
   "metadata": {},
   "source": [
    "### Question 2: Average duration in Jan 2021 FHV"
   ]
  },
  {
   "cell_type": "code",
   "execution_count": 10,
   "id": "e065aa42",
   "metadata": {},
   "outputs": [
    {
     "data": {
      "text/html": [
       "<div>\n",
       "<style scoped>\n",
       "    .dataframe tbody tr th:only-of-type {\n",
       "        vertical-align: middle;\n",
       "    }\n",
       "\n",
       "    .dataframe tbody tr th {\n",
       "        vertical-align: top;\n",
       "    }\n",
       "\n",
       "    .dataframe thead th {\n",
       "        text-align: right;\n",
       "    }\n",
       "</style>\n",
       "<table border=\"1\" class=\"dataframe\">\n",
       "  <thead>\n",
       "    <tr style=\"text-align: right;\">\n",
       "      <th></th>\n",
       "      <th>dispatching_base_num</th>\n",
       "      <th>pickup_datetime</th>\n",
       "      <th>dropOff_datetime</th>\n",
       "      <th>PUlocationID</th>\n",
       "      <th>DOlocationID</th>\n",
       "      <th>SR_Flag</th>\n",
       "      <th>Affiliated_base_number</th>\n",
       "    </tr>\n",
       "  </thead>\n",
       "  <tbody>\n",
       "    <tr>\n",
       "      <th>0</th>\n",
       "      <td>B00009</td>\n",
       "      <td>2021-01-01 00:27:00</td>\n",
       "      <td>2021-01-01 00:44:00</td>\n",
       "      <td>NaN</td>\n",
       "      <td>NaN</td>\n",
       "      <td>None</td>\n",
       "      <td>B00009</td>\n",
       "    </tr>\n",
       "    <tr>\n",
       "      <th>1</th>\n",
       "      <td>B00009</td>\n",
       "      <td>2021-01-01 00:50:00</td>\n",
       "      <td>2021-01-01 01:07:00</td>\n",
       "      <td>NaN</td>\n",
       "      <td>NaN</td>\n",
       "      <td>None</td>\n",
       "      <td>B00009</td>\n",
       "    </tr>\n",
       "    <tr>\n",
       "      <th>2</th>\n",
       "      <td>B00013</td>\n",
       "      <td>2021-01-01 00:01:00</td>\n",
       "      <td>2021-01-01 01:51:00</td>\n",
       "      <td>NaN</td>\n",
       "      <td>NaN</td>\n",
       "      <td>None</td>\n",
       "      <td>B00013</td>\n",
       "    </tr>\n",
       "    <tr>\n",
       "      <th>3</th>\n",
       "      <td>B00037</td>\n",
       "      <td>2021-01-01 00:13:09</td>\n",
       "      <td>2021-01-01 00:21:26</td>\n",
       "      <td>NaN</td>\n",
       "      <td>72.0</td>\n",
       "      <td>None</td>\n",
       "      <td>B00037</td>\n",
       "    </tr>\n",
       "    <tr>\n",
       "      <th>4</th>\n",
       "      <td>B00037</td>\n",
       "      <td>2021-01-01 00:38:31</td>\n",
       "      <td>2021-01-01 00:53:44</td>\n",
       "      <td>NaN</td>\n",
       "      <td>61.0</td>\n",
       "      <td>None</td>\n",
       "      <td>B00037</td>\n",
       "    </tr>\n",
       "  </tbody>\n",
       "</table>\n",
       "</div>"
      ],
      "text/plain": [
       "  dispatching_base_num     pickup_datetime    dropOff_datetime  PUlocationID  \\\n",
       "0               B00009 2021-01-01 00:27:00 2021-01-01 00:44:00           NaN   \n",
       "1               B00009 2021-01-01 00:50:00 2021-01-01 01:07:00           NaN   \n",
       "2               B00013 2021-01-01 00:01:00 2021-01-01 01:51:00           NaN   \n",
       "3               B00037 2021-01-01 00:13:09 2021-01-01 00:21:26           NaN   \n",
       "4               B00037 2021-01-01 00:38:31 2021-01-01 00:53:44           NaN   \n",
       "\n",
       "   DOlocationID SR_Flag Affiliated_base_number  \n",
       "0           NaN    None                 B00009  \n",
       "1           NaN    None                 B00009  \n",
       "2           NaN    None                 B00013  \n",
       "3          72.0    None                 B00037  \n",
       "4          61.0    None                 B00037  "
      ]
     },
     "execution_count": 10,
     "metadata": {},
     "output_type": "execute_result"
    }
   ],
   "source": [
    "df1.head()"
   ]
  },
  {
   "cell_type": "code",
   "execution_count": 12,
   "id": "b46f5787",
   "metadata": {},
   "outputs": [
    {
     "data": {
      "text/plain": [
       "dispatching_base_num              object\n",
       "pickup_datetime           datetime64[ns]\n",
       "dropOff_datetime          datetime64[ns]\n",
       "PUlocationID                     float64\n",
       "DOlocationID                     float64\n",
       "SR_Flag                           object\n",
       "Affiliated_base_number            object\n",
       "dtype: object"
      ]
     },
     "execution_count": 12,
     "metadata": {},
     "output_type": "execute_result"
    }
   ],
   "source": [
    "df1.dtypes"
   ]
  },
  {
   "cell_type": "code",
   "execution_count": 22,
   "id": "a0d9c500",
   "metadata": {},
   "outputs": [],
   "source": [
    "df1['duration'] = df1[\"dropOff_datetime\"] - df1[\"pickup_datetime\"]"
   ]
  },
  {
   "cell_type": "code",
   "execution_count": 24,
   "id": "17a2495b",
   "metadata": {},
   "outputs": [],
   "source": [
    "df1.duration = df1.duration.apply(lambda td: td.total_seconds()/60)"
   ]
  },
  {
   "cell_type": "code",
   "execution_count": 25,
   "id": "68bf7fd7",
   "metadata": {},
   "outputs": [
    {
     "data": {
      "text/html": [
       "<div>\n",
       "<style scoped>\n",
       "    .dataframe tbody tr th:only-of-type {\n",
       "        vertical-align: middle;\n",
       "    }\n",
       "\n",
       "    .dataframe tbody tr th {\n",
       "        vertical-align: top;\n",
       "    }\n",
       "\n",
       "    .dataframe thead th {\n",
       "        text-align: right;\n",
       "    }\n",
       "</style>\n",
       "<table border=\"1\" class=\"dataframe\">\n",
       "  <thead>\n",
       "    <tr style=\"text-align: right;\">\n",
       "      <th></th>\n",
       "      <th>dispatching_base_num</th>\n",
       "      <th>pickup_datetime</th>\n",
       "      <th>dropOff_datetime</th>\n",
       "      <th>PUlocationID</th>\n",
       "      <th>DOlocationID</th>\n",
       "      <th>SR_Flag</th>\n",
       "      <th>Affiliated_base_number</th>\n",
       "      <th>duration</th>\n",
       "    </tr>\n",
       "  </thead>\n",
       "  <tbody>\n",
       "    <tr>\n",
       "      <th>0</th>\n",
       "      <td>B00009</td>\n",
       "      <td>2021-01-01 00:27:00</td>\n",
       "      <td>2021-01-01 00:44:00</td>\n",
       "      <td>NaN</td>\n",
       "      <td>NaN</td>\n",
       "      <td>None</td>\n",
       "      <td>B00009</td>\n",
       "      <td>17.000000</td>\n",
       "    </tr>\n",
       "    <tr>\n",
       "      <th>1</th>\n",
       "      <td>B00009</td>\n",
       "      <td>2021-01-01 00:50:00</td>\n",
       "      <td>2021-01-01 01:07:00</td>\n",
       "      <td>NaN</td>\n",
       "      <td>NaN</td>\n",
       "      <td>None</td>\n",
       "      <td>B00009</td>\n",
       "      <td>17.000000</td>\n",
       "    </tr>\n",
       "    <tr>\n",
       "      <th>2</th>\n",
       "      <td>B00013</td>\n",
       "      <td>2021-01-01 00:01:00</td>\n",
       "      <td>2021-01-01 01:51:00</td>\n",
       "      <td>NaN</td>\n",
       "      <td>NaN</td>\n",
       "      <td>None</td>\n",
       "      <td>B00013</td>\n",
       "      <td>110.000000</td>\n",
       "    </tr>\n",
       "    <tr>\n",
       "      <th>3</th>\n",
       "      <td>B00037</td>\n",
       "      <td>2021-01-01 00:13:09</td>\n",
       "      <td>2021-01-01 00:21:26</td>\n",
       "      <td>NaN</td>\n",
       "      <td>72.0</td>\n",
       "      <td>None</td>\n",
       "      <td>B00037</td>\n",
       "      <td>8.283333</td>\n",
       "    </tr>\n",
       "    <tr>\n",
       "      <th>4</th>\n",
       "      <td>B00037</td>\n",
       "      <td>2021-01-01 00:38:31</td>\n",
       "      <td>2021-01-01 00:53:44</td>\n",
       "      <td>NaN</td>\n",
       "      <td>61.0</td>\n",
       "      <td>None</td>\n",
       "      <td>B00037</td>\n",
       "      <td>15.216667</td>\n",
       "    </tr>\n",
       "  </tbody>\n",
       "</table>\n",
       "</div>"
      ],
      "text/plain": [
       "  dispatching_base_num     pickup_datetime    dropOff_datetime  PUlocationID  \\\n",
       "0               B00009 2021-01-01 00:27:00 2021-01-01 00:44:00           NaN   \n",
       "1               B00009 2021-01-01 00:50:00 2021-01-01 01:07:00           NaN   \n",
       "2               B00013 2021-01-01 00:01:00 2021-01-01 01:51:00           NaN   \n",
       "3               B00037 2021-01-01 00:13:09 2021-01-01 00:21:26           NaN   \n",
       "4               B00037 2021-01-01 00:38:31 2021-01-01 00:53:44           NaN   \n",
       "\n",
       "   DOlocationID SR_Flag Affiliated_base_number    duration  \n",
       "0           NaN    None                 B00009   17.000000  \n",
       "1           NaN    None                 B00009   17.000000  \n",
       "2           NaN    None                 B00013  110.000000  \n",
       "3          72.0    None                 B00037    8.283333  \n",
       "4          61.0    None                 B00037   15.216667  "
      ]
     },
     "execution_count": 25,
     "metadata": {},
     "output_type": "execute_result"
    }
   ],
   "source": [
    "df1.head()"
   ]
  },
  {
   "cell_type": "code",
   "execution_count": 29,
   "id": "802f3cc7",
   "metadata": {},
   "outputs": [
    {
     "name": "stderr",
     "output_type": "stream",
     "text": [
      "/home/ubuntu/anaconda3/lib/python3.9/site-packages/seaborn/distributions.py:2619: FutureWarning: `distplot` is a deprecated function and will be removed in a future version. Please adapt your code to use either `displot` (a figure-level function with similar flexibility) or `histplot` (an axes-level function for histograms).\n",
      "  warnings.warn(msg, FutureWarning)\n"
     ]
    },
    {
     "data": {
      "text/plain": [
       "<AxesSubplot:xlabel='duration', ylabel='Density'>"
      ]
     },
     "execution_count": 29,
     "metadata": {},
     "output_type": "execute_result"
    },
    {
     "data": {
      "image/png": "[encoded data removed]",
      "text/plain": [
       "<Figure size 432x288 with 1 Axes>"
      ]
     },
     "metadata": {
      "needs_background": "light"
     },
     "output_type": "display_data"
    }
   ],
   "source": [
    "sns.distplot(df1.duration)"
   ]
  },
  {
   "cell_type": "code",
   "execution_count": 27,
   "id": "26a02499",
   "metadata": {},
   "outputs": [
    {
     "name": "stdout",
     "output_type": "stream",
     "text": [
      "19.17\n"
     ]
    }
   ],
   "source": [
    "print(round(df1.duration.mean(),2))"
   ]
  },
  {
   "cell_type": "markdown",
   "id": "6435c3b8",
   "metadata": {},
   "source": [
    "## Data Preparation"
   ]
  },
  {
   "cell_type": "markdown",
   "id": "e37aedbf",
   "metadata": {},
   "source": [
    "### Question 3: Fraction of missing values"
   ]
  },
  {
   "cell_type": "code",
   "execution_count": 36,
   "id": "7b01a051",
   "metadata": {},
   "outputs": [],
   "source": [
    "df1 = df1[(60>=df1['duration']) & (df1['duration'] >=0)]"
   ]
  },
  {
   "cell_type": "code",
   "execution_count": 38,
   "id": "356b30a8",
   "metadata": {},
   "outputs": [
    {
     "name": "stderr",
     "output_type": "stream",
     "text": [
      "/home/ubuntu/anaconda3/lib/python3.9/site-packages/seaborn/distributions.py:2619: FutureWarning: `distplot` is a deprecated function and will be removed in a future version. Please adapt your code to use either `displot` (a figure-level function with similar flexibility) or `histplot` (an axes-level function for histograms).\n",
      "  warnings.warn(msg, FutureWarning)\n"
     ]
    },
    {
     "data": {
      "text/plain": [
       "<AxesSubplot:xlabel='duration', ylabel='Density'>"
      ]
     },
     "execution_count": 38,
     "metadata": {},
     "output_type": "execute_result"
    },
    {
     "data": {
      "image/png": "[encoded data removed]",
      "text/plain": [
       "<Figure size 432x288 with 1 Axes>"
      ]
     },
     "metadata": {
      "needs_background": "light"
     },
     "output_type": "display_data"
    }
   ],
   "source": [
    "sns.distplot(df1.duration)"
   ]
  },
  {
   "cell_type": "code",
   "execution_count": 39,
   "id": "34c7b8e2",
   "metadata": {},
   "outputs": [
    {
     "data": {
      "text/html": [
       "<div>\n",
       "<style scoped>\n",
       "    .dataframe tbody tr th:only-of-type {\n",
       "        vertical-align: middle;\n",
       "    }\n",
       "\n",
       "    .dataframe tbody tr th {\n",
       "        vertical-align: top;\n",
       "    }\n",
       "\n",
       "    .dataframe thead th {\n",
       "        text-align: right;\n",
       "    }\n",
       "</style>\n",
       "<table border=\"1\" class=\"dataframe\">\n",
       "  <thead>\n",
       "    <tr style=\"text-align: right;\">\n",
       "      <th></th>\n",
       "      <th>PUlocationID</th>\n",
       "      <th>DOlocationID</th>\n",
       "      <th>duration</th>\n",
       "    </tr>\n",
       "  </thead>\n",
       "  <tbody>\n",
       "    <tr>\n",
       "      <th>count</th>\n",
       "      <td>189143.000000</td>\n",
       "      <td>975960.000000</td>\n",
       "      <td>1.124850e+06</td>\n",
       "    </tr>\n",
       "    <tr>\n",
       "      <th>mean</th>\n",
       "      <td>139.552873</td>\n",
       "      <td>135.555487</td>\n",
       "      <td>1.603365e+01</td>\n",
       "    </tr>\n",
       "    <tr>\n",
       "      <th>std</th>\n",
       "      <td>74.748965</td>\n",
       "      <td>80.342685</td>\n",
       "      <td>1.162009e+01</td>\n",
       "    </tr>\n",
       "    <tr>\n",
       "      <th>min</th>\n",
       "      <td>1.000000</td>\n",
       "      <td>1.000000</td>\n",
       "      <td>1.666667e-02</td>\n",
       "    </tr>\n",
       "    <tr>\n",
       "      <th>25%</th>\n",
       "      <td>75.000000</td>\n",
       "      <td>66.000000</td>\n",
       "      <td>7.616667e+00</td>\n",
       "    </tr>\n",
       "    <tr>\n",
       "      <th>50%</th>\n",
       "      <td>143.000000</td>\n",
       "      <td>132.000000</td>\n",
       "      <td>1.305000e+01</td>\n",
       "    </tr>\n",
       "    <tr>\n",
       "      <th>75%</th>\n",
       "      <td>206.000000</td>\n",
       "      <td>213.000000</td>\n",
       "      <td>2.128333e+01</td>\n",
       "    </tr>\n",
       "    <tr>\n",
       "      <th>max</th>\n",
       "      <td>265.000000</td>\n",
       "      <td>265.000000</td>\n",
       "      <td>6.000000e+01</td>\n",
       "    </tr>\n",
       "  </tbody>\n",
       "</table>\n",
       "</div>"
      ],
      "text/plain": [
       "        PUlocationID   DOlocationID      duration\n",
       "count  189143.000000  975960.000000  1.124850e+06\n",
       "mean      139.552873     135.555487  1.603365e+01\n",
       "std        74.748965      80.342685  1.162009e+01\n",
       "min         1.000000       1.000000  1.666667e-02\n",
       "25%        75.000000      66.000000  7.616667e+00\n",
       "50%       143.000000     132.000000  1.305000e+01\n",
       "75%       206.000000     213.000000  2.128333e+01\n",
       "max       265.000000     265.000000  6.000000e+01"
      ]
     },
     "execution_count": 39,
     "metadata": {},
     "output_type": "execute_result"
    }
   ],
   "source": [
    "df1.describe()"
   ]
  },
  {
   "cell_type": "code",
   "execution_count": 43,
   "id": "6f51b0f3",
   "metadata": {},
   "outputs": [],
   "source": [
    "df1 = df1[['PUlocationID', 'DOlocationID','duration']]"
   ]
  },
  {
   "cell_type": "code",
   "execution_count": 46,
   "id": "79054378",
   "metadata": {},
   "outputs": [
    {
     "data": {
      "text/plain": [
       "PUlocationID    83.185047\n",
       "DOlocationID    13.236432\n",
       "duration         0.000000\n",
       "dtype: float64"
      ]
     },
     "execution_count": 46,
     "metadata": {},
     "output_type": "execute_result"
    }
   ],
   "source": [
    "100*df1.isna().sum()/len(df1)"
   ]
  },
  {
   "cell_type": "code",
   "execution_count": 54,
   "id": "a6b92bd9",
   "metadata": {},
   "outputs": [
    {
     "name": "stdout",
     "output_type": "stream",
     "text": [
      "Fraction of missing values PU_ID 83.19\n"
     ]
    }
   ],
   "source": [
    "print(f\"Fraction of missing values PU_ID {round(100*df1['PUlocationID'].isna().sum()/len(df1),2)}\")"
   ]
  },
  {
   "cell_type": "code",
   "execution_count": 57,
   "id": "db103b4d",
   "metadata": {},
   "outputs": [],
   "source": [
    "df1 = df1.replace(np.nan, -1)"
   ]
  },
  {
   "cell_type": "markdown",
   "id": "a85af06c",
   "metadata": {},
   "source": [
    "### Question 4: Dimensionality after OHE"
   ]
  },
  {
   "cell_type": "code",
   "execution_count": 61,
   "id": "72f06682",
   "metadata": {},
   "outputs": [],
   "source": [
    "categorical = ['PUlocationID', 'DOlocationID']\n",
    "#numerical = ['duration']"
   ]
  },
  {
   "cell_type": "code",
   "execution_count": 62,
   "id": "20909bb5",
   "metadata": {},
   "outputs": [],
   "source": [
    "df1[categorical] = df1[categorical].astype(str)"
   ]
  },
  {
   "cell_type": "code",
   "execution_count": 63,
   "id": "a80f59e6",
   "metadata": {},
   "outputs": [],
   "source": [
    "train_dicts = df1[categorical].to_dict(orient='records')"
   ]
  },
  {
   "cell_type": "code",
   "execution_count": 64,
   "id": "343e1d2d",
   "metadata": {},
   "outputs": [],
   "source": [
    "dv = DictVectorizer()\n",
    "X_train = dv.fit_transform(train_dicts)"
   ]
  },
  {
   "cell_type": "code",
   "execution_count": 65,
   "id": "6954cb4f",
   "metadata": {},
   "outputs": [
    {
     "data": {
      "text/plain": [
       "(1124850, 525)"
      ]
     },
     "execution_count": 65,
     "metadata": {},
     "output_type": "execute_result"
    }
   ],
   "source": [
    "X_train.shape"
   ]
  },
  {
   "cell_type": "code",
   "execution_count": 72,
   "id": "cd1cda43",
   "metadata": {},
   "outputs": [],
   "source": [
    "y_train = df1['duration'].values"
   ]
  },
  {
   "cell_type": "code",
   "execution_count": 66,
   "id": "4402e4c9",
   "metadata": {},
   "outputs": [
    {
     "name": "stdout",
     "output_type": "stream",
     "text": [
      "The dimensionality of this matrix is 525\n"
     ]
    }
   ],
   "source": [
    "print(f\"The dimensionality of this matrix is {X_train.shape[1]}\")"
   ]
  },
  {
   "cell_type": "markdown",
   "id": "b949a690",
   "metadata": {},
   "source": [
    "### Question 5: RMSE on train"
   ]
  },
  {
   "cell_type": "code",
   "execution_count": 73,
   "id": "83140a7d",
   "metadata": {},
   "outputs": [
    {
     "data": {
      "text/plain": [
       "LinearRegression()"
      ]
     },
     "execution_count": 73,
     "metadata": {},
     "output_type": "execute_result"
    }
   ],
   "source": [
    "lr = LinearRegression()\n",
    "lr.fit(X_train, y_train)"
   ]
  },
  {
   "cell_type": "code",
   "execution_count": 74,
   "id": "88132385",
   "metadata": {},
   "outputs": [],
   "source": [
    "y_pred = lr.predict(X_train)"
   ]
  },
  {
   "cell_type": "code",
   "execution_count": 77,
   "id": "9e96bda8",
   "metadata": {},
   "outputs": [
    {
     "name": "stderr",
     "output_type": "stream",
     "text": [
      "/home/ubuntu/anaconda3/lib/python3.9/site-packages/seaborn/distributions.py:2619: FutureWarning: `distplot` is a deprecated function and will be removed in a future version. Please adapt your code to use either `displot` (a figure-level function with similar flexibility) or `histplot` (an axes-level function for histograms).\n",
      "  warnings.warn(msg, FutureWarning)\n",
      "/home/ubuntu/anaconda3/lib/python3.9/site-packages/seaborn/distributions.py:2619: FutureWarning: `distplot` is a deprecated function and will be removed in a future version. Please adapt your code to use either `displot` (a figure-level function with similar flexibility) or `histplot` (an axes-level function for histograms).\n",
      "  warnings.warn(msg, FutureWarning)\n"
     ]
    },
    {
     "data": {
      "text/plain": [
       "<matplotlib.legend.Legend at 0x7f57178c3a30>"
      ]
     },
     "execution_count": 77,
     "metadata": {},
     "output_type": "execute_result"
    },
    {
     "data": {
      "image/png": "[encoded data removed]",
      "text/plain": [
       "<Figure size 432x288 with 1 Axes>"
      ]
     },
     "metadata": {
      "needs_background": "light"
     },
     "output_type": "display_data"
    }
   ],
   "source": [
    "sns.distplot(y_pred, label = 'prediction')\n",
    "sns.distplot(y_train, label = 'actual')\n",
    "plt.legend()"
   ]
  },
  {
   "cell_type": "code",
   "execution_count": 92,
   "id": "1dee3e06",
   "metadata": {},
   "outputs": [
    {
     "name": "stdout",
     "output_type": "stream",
     "text": [
      "The RMSE on train is 10.63\n"
     ]
    }
   ],
   "source": [
    "train_rmse = mean_squared_error(y_train, y_pred, squared=False)\n",
    "\n",
    "print(f\"The RMSE on train is {round(train_rmse,2)}\")"
   ]
  },
  {
   "cell_type": "markdown",
   "id": "5af78a2f",
   "metadata": {},
   "source": [
    "### Question 6: RMSE on validation"
   ]
  },
  {
   "cell_type": "code",
   "execution_count": 86,
   "id": "b4436263",
   "metadata": {},
   "outputs": [],
   "source": [
    "def preproc(df):\n",
    "    df['duration'] = df[\"dropOff_datetime\"] - df[\"pickup_datetime\"]\n",
    "    df.duration = df.duration.apply(lambda td: td.total_seconds()/60)\n",
    "    df = df[(60>=df['duration']) & (df['duration'] >=0)]\n",
    "    df = df[['PUlocationID', 'DOlocationID','duration']]\n",
    "    df = df.replace(np.nan, -1)\n",
    "    \n",
    "    categorical = ['PUlocationID', 'DOlocationID']\n",
    "    df[categorical] = df[categorical].astype(str)\n",
    "    \n",
    "    dicts = df[categorical].to_dict(orient='records')\n",
    "    y = df['duration'].values\n",
    "    return dicts, y\n",
    "\n",
    "def get_data(df_train, df_test):\n",
    "    train_dicts, y_train = preproc(df_train)\n",
    "    test_dicts, y_test = preproc(df_test)\n",
    "    \n",
    "    dv = DictVectorizer()\n",
    "    X_train = dv.fit_transform(train_dicts)\n",
    "    X_test = dv.transform(test_dicts)\n",
    "    return X_train, y_train, X_test, y_test"
   ]
  },
  {
   "cell_type": "code",
   "execution_count": 89,
   "id": "1160d85a",
   "metadata": {
    "scrolled": true
   },
   "outputs": [],
   "source": [
    "X_train, y_train, X_test, y_test = get_data(df1, df2)"
   ]
  },
  {
   "cell_type": "code",
   "execution_count": 90,
   "id": "87fc1e69",
   "metadata": {},
   "outputs": [],
   "source": [
    "y_pred_test = lr.predict(X_test)"
   ]
  },
  {
   "cell_type": "code",
   "execution_count": 93,
   "id": "6cfcc31f",
   "metadata": {},
   "outputs": [
    {
     "name": "stdout",
     "output_type": "stream",
     "text": [
      "The RMSE on train is 11.12\n"
     ]
    }
   ],
   "source": [
    "test_rmse = mean_squared_error(y_test, y_pred_test, squared=False)\n",
    "\n",
    "print(f\"The RMSE on train is {round(test_rmse,2)}\")"
   ]
  },
  {
   "cell_type": "code",
   "execution_count": null,
   "id": "57b5a5be",
   "metadata": {},
   "outputs": [],
   "source": []
  }
 ],
 "metadata": {
  "kernelspec": {
   "display_name": "Python 3 (ipykernel)",
   "language": "python",
   "name": "python3"
  },
  "language_info": {
   "codemirror_mode": {
    "name": "ipython",
    "version": 3
   },
   "file_extension": ".py",
   "mimetype": "text/x-python",
   "name": "python",
   "nbconvert_exporter": "python",
   "pygments_lexer": "ipython3",
   "version": "3.9.12"
  }
 },
 "nbformat": 4,
 "nbformat_minor": 5
}
